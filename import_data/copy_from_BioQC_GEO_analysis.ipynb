{
 "cells": [
  {
   "cell_type": "code",
   "execution_count": 28,
   "metadata": {
    "collapsed": true
   },
   "outputs": [],
   "source": [
    "from manage_geo import * \n",
    "from config import config\n",
    "import os\n",
    "import sys"
   ]
  },
  {
   "cell_type": "code",
   "execution_count": 9,
   "metadata": {
    "collapsed": false
   },
   "outputs": [],
   "source": []
  },
  {
   "cell_type": "code",
   "execution_count": 3,
   "metadata": {
    "collapsed": false
   },
   "outputs": [],
   "source": [
    "gse_gpl = []\n",
    "with open(\"/pstore/data/bioinfo/users/sturmg/BioQC_GEO_analysis/gse_tissue_annot/gse_gpl.tsv\") as f: \n",
    "    for i, l in enumerate(f.readlines()):\n",
    "        if i == 0: \n",
    "            continue\n",
    "        gse_gpl.append([x.strip('\"') for x in l.split()[:2]])"
   ]
  },
  {
   "cell_type": "markdown",
   "metadata": {},
   "source": [
    "## Flatfiles"
   ]
  },
  {
   "cell_type": "code",
   "execution_count": null,
   "metadata": {
    "collapsed": true
   },
   "outputs": [],
   "source": [
    "!rm -f /copy_from_BioQC_GEO_analysis.log\n",
    "sys.stderr = open('./copy_from_BioQC_GEO_analysis.log', 'w')"
   ]
  },
  {
   "cell_type": "code",
   "execution_count": 4,
   "metadata": {
    "collapsed": true
   },
   "outputs": [],
   "source": [
    "path = \"/pstore/data/bioinfo/users/sturmg/BioQC_GEO_analysis/gse_tissue_annot/geo_annot_flat\"\n",
    "suffixes = [('exprs', 'gct'), ('fdata', 'tsv'), ('pdata', 'tsv')]"
   ]
  },
  {
   "cell_type": "code",
   "execution_count": 5,
   "metadata": {
    "collapsed": true
   },
   "outputs": [],
   "source": [
    "gse_dict = {\n",
    "    gse: [] for gse, _ in gse_gpl\n",
    "}"
   ]
  },
  {
   "cell_type": "code",
   "execution_count": 6,
   "metadata": {
    "collapsed": true
   },
   "outputs": [],
   "source": [
    "for gse, gpl in gse_gpl:\n",
    "    gse_dict[gse].append(gpl)\n",
    "    assert len(set(gse_dict[gse])) == len(gse_dict[gse])"
   ]
  },
  {
   "cell_type": "code",
   "execution_count": 10,
   "metadata": {
    "collapsed": false
   },
   "outputs": [],
   "source": [
    "for gse in gse_dict:\n",
    "    if(len(gse_dict[gse]) == 1):\n",
    "        base_filenames = [os.path.join(path, gse + '_{}.{}')]\n",
    "    else: \n",
    "        base_filenames = [os.path.join(path, '{}-{}'.format(gse, gpl) + '_{}.{}') for gpl in gse_dict[gse]]\n",
    "\n",
    "    for base_filename, gpl in zip(base_filenames, gse_dict[gse]):\n",
    "        for sfx, ext in suffixes: \n",
    "            file = os.path.join(path, base_filename.format(sfx, ext))\n",
    "            if(os.path.exists(file)): \n",
    "                put({'FILE': file, 'GSE': gse, 'GPL': gpl, 'SUFFIX': sfx, '--move': False, '--force': False})\n",
    "            sys.stderr.flush()"
   ]
  },
  {
   "cell_type": "markdown",
   "metadata": {},
   "source": [
    "## Rdata objects"
   ]
  },
  {
   "cell_type": "code",
   "execution_count": 14,
   "metadata": {
    "collapsed": true
   },
   "outputs": [],
   "source": [
    "!rm -f /copy_from_BioQC_GEO_analysis.rdata.log\n",
    "sys.stderr = open('./copy_from_BioQC_GEO_analysis.rdata.log', 'w')"
   ]
  },
  {
   "cell_type": "code",
   "execution_count": 15,
   "metadata": {
    "collapsed": true
   },
   "outputs": [],
   "source": [
    "path = '/pstore/data/bioinfo/users/sturmg/BioQC_GEO_analysis/gse_tissue_annot/geo_annot'"
   ]
  },
  {
   "cell_type": "code",
   "execution_count": 16,
   "metadata": {
    "collapsed": true
   },
   "outputs": [],
   "source": [
    "for gse in gse_dict:\n",
    "    if(len(gse_dict[gse]) == 1):\n",
    "        base_filenames = [os.path.join(path, gse + '.Rdata')]\n",
    "    else: \n",
    "        base_filenames = [os.path.join(path, '{}-{}'.format(gse, gpl) + '.Rdata') for gpl in gse_dict[gse]]\n",
    "\n",
    "    for base_filename, gpl in zip(base_filenames, gse_dict[gse]):\n",
    "        file = os.path.join(path, base_filename)\n",
    "        if(os.path.exists(file)): \n",
    "            put({'FILE': file, 'GSE': gse, 'GPL': gpl, 'SUFFIX': 'eset', '--move': False, '--force': False})\n",
    "        sys.stderr.flush()"
   ]
  },
  {
   "cell_type": "markdown",
   "metadata": {},
   "source": [
    "## Make list\n",
    "make a nice list with with the BioQC-GEO dataset (~81k samples, 2900 studies)"
   ]
  },
  {
   "cell_type": "code",
   "execution_count": 27,
   "metadata": {
    "collapsed": false
   },
   "outputs": [
    {
     "name": "stdout",
     "output_type": "stream",
     "text": [
      "identifier not unique, GSE33564, ['GPL14860', 'GPL6247', 'GPL10906'], GSE33564_bioqc_res_melt.tab\n",
      "\n",
      "invalid gpl GSE35321, GPL6887\n",
      "identifier not unique, GSE59787, ['GPL4133', 'GPL6480'], GSE59787_bioqc_res_melt.tab\n",
      "\n",
      "invalid gpl GSE64770, GPL6885\n",
      "invalid gpl GSE73037, GPL6480\n",
      "identifier not unique, GSE75285, ['GPL570', 'GPL16298', 'GPL6801'], GSE75285_bioqc_res_melt.tab\n",
      "\n"
     ]
    }
   ],
   "source": [
    "bioqc_geo_list = [] \n",
    "with open(\"/pstore/home/sturmg/projects/BioQC_GEO_analysis/results/gse_lists/bioqced_esets.txt\") as f:\n",
    "    for l in f.readlines():\n",
    "        ident = l.split('_')[0]\n",
    "        if '-' in ident: \n",
    "            gse, gpl = ident.split('-')\n",
    "            if not gpl in gse_dict[gse]:\n",
    "                print('invalid gpl {}, {}'.format(gse, gpl))\n",
    "                continue\n",
    "        else: \n",
    "            gse = ident\n",
    "            if not len(gse_dict[gse]) == 1:\n",
    "                print('identifier not unique, {}, {}, {}'.format(gse, gse_dict[gse], l))\n",
    "                continue\n",
    "            gpl = gse_dict[gse][0]\n",
    "\n",
    "        bioqc_geo_list.append('{}-{}'.format(gse, gpl))"
   ]
  },
  {
   "cell_type": "code",
   "execution_count": 29,
   "metadata": {
    "collapsed": true
   },
   "outputs": [],
   "source": [
    "comment = \"\"\"# List of studies which \n",
    "# * have probe-ids mapped to human orthologous gene symbols\n",
    "# * have a tissue of origin annotated\n",
    "# * can be successfully processed with BioQC\"\"\""
   ]
  },
  {
   "cell_type": "code",
   "execution_count": 31,
   "metadata": {
    "collapsed": true
   },
   "outputs": [],
   "source": [
    "list_file = os.path.join(config['root_dir'], 'index', 'GSE_tissue_and_gene_symbols.txt')"
   ]
  },
  {
   "cell_type": "code",
   "execution_count": 32,
   "metadata": {
    "collapsed": true
   },
   "outputs": [],
   "source": [
    "with open(list_file, 'w') as f: \n",
    "    f.write(comment + '\\n')\n",
    "    for ident in bioqc_geo_list:\n",
    "        f.write(ident + '\\n')"
   ]
  },
  {
   "cell_type": "code",
   "execution_count": 34,
   "metadata": {
    "collapsed": false
   },
   "outputs": [
    {
     "name": "stdout",
     "output_type": "stream",
     "text": [
      "7807 /pstore/data/bi/reference/GEO/index/GSE_tissue_and_gene_symbols.txt\r\n"
     ]
    }
   ],
   "source": [
    "!wc -l {list_file}"
   ]
  },
  {
   "cell_type": "code",
   "execution_count": null,
   "metadata": {
    "collapsed": true
   },
   "outputs": [],
   "source": []
  }
 ],
 "metadata": {
  "anaconda-cloud": {},
  "kernelspec": {
   "display_name": "Python [Root]",
   "language": "python",
   "name": "Python [Root]"
  },
  "language_info": {
   "codemirror_mode": {
    "name": "ipython",
    "version": 3
   },
   "file_extension": ".py",
   "mimetype": "text/x-python",
   "name": "python",
   "nbconvert_exporter": "python",
   "pygments_lexer": "ipython3",
   "version": "3.5.2"
  }
 },
 "nbformat": 4,
 "nbformat_minor": 0
}
