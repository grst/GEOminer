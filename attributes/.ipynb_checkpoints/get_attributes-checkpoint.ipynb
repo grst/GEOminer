{
 "cells": [
  {
   "cell_type": "code",
   "execution_count": 68,
   "metadata": {
    "collapsed": true
   },
   "outputs": [],
   "source": [
    "import requests\n",
    "import IPython.display as ipd\n",
    "import re"
   ]
  },
  {
   "cell_type": "code",
   "execution_count": 52,
   "metadata": {
    "collapsed": true
   },
   "outputs": [],
   "source": [
    "cookies_raw = \"prevsearch=; pmc.article.report=; books.article.report=; SMSESSION=4Tq0FL9K88yAdmRCiD71KT+6xigx1WjrdxymkfQewUy2otILHJColJiJV/RAOcHcc7JPI+UjzyvJoqU94+HoEfEh7g4gxaoTfTdYd22aGGgcuA18DJ+2x3owQ5hCIDlOtwKR+NM9GfGzX/fFhv46urilNSeQc2MnBwQuKKB8j7q3WYgtAwT/+TOPDSTZL4s0aiTERGw65kdLnHvVKCAqeMC3/V8u4XrCHSeupnCmGEqD+fCkPERksFxxkt51xd48YRCF5HNch4fxebBl1QQsOdE2DIf4N2nPNZzakFnlvVf2TKCopticXi7sypTnK+H9xuULyRC428Fuc8k4U2dvYrn1mK37CUG/0lqgOHIvZqlL0bNo/nGMPKEqekLZyF94eHa48JFwn9bG8KdAxyctECXrWWadJNoOCOycAFeJciKixY7aSQQi9kaHt+t9sNJlrjMrSNpO4IfT9jA+FHBft5KDgwevdwxauPw3Fqwcf/OvRSb1i3rkSBXQlE3qAdcOa3KGBQSRvOZKZTZnC+FS3a02G4fTwomG79crf/oOgaQ10X3+/Jz2PMkAwDzJIy3JGoHpafjS/3zGF9O6hHoBWXuDZpxrW6zPTOkavPHB5qh+is7VkcCwGDAtYIcOnmLmGsS3JyO8yV/dYTKb7EO+9NWVRGKc4vwuoJes2sJ9F5SiNx/MEH/tdV1CqXZ3hMJnSc2sl9REIURNtJMJUy90PK/6z5AmyMGdwwzzakcU2Ja81aUgDczOxKwCN54mP1cBLHIaKHj3MzDCH8sbjYXwOpf1m+S5GcJSkTVa0sHU1dYjySR3TR/RnU/yZWn3APY4dtPWYriP6wZL2sE0HWrY2VlEuql4I/CjfYLeAktEBjRwxPhw82hvmcMnX4ojXPmzd5gnRPlMV7hjzVaKzeX8KE/l+qjCjYbYlFBZTKauQJCOmF6E9EWvb+EbQHwiCGETUpfHFun0tIZDgj/JcWeijAbR835hnTb4ODDjHw4hr0n4RLLevjNCxHQdETXF8MJDlC6LTv/pH6YIGqUa0e+6Xw159F2E4sK1/fhlV/jqyaF284XqJElKaBWjXRniengMipm62va5Kj4eE2Y8lv3wRWHQerQ3fzemJvxQK1Q4Udg/7XwxigEINKKlwZuRJU+KEtso+ZpDHxNQFQFQ4lL0g4DAXkBf1JZ2ef7ljtiYsbtJNBti3xbSNp4/nCpbax03+75Nbvm9IOyJZdGyY9uyYXBgp61/RRQu; NIHSMCHALLENGE=SSL_CHALLENGE_DONE; NIHSMSESSION=0oqp5kiFp14hgvo9qJu9krd3cDxSMlcN2ORwBLfRa0eGgSWfTh9TIQG4f/QvRG80jI8aRAi3EWHc4flKXO8OaLgyeCbFCwqFmP37lPuomWjVbISaFIfFTiDu9ZqMB01XQJ5Y5dpL31dqC88myukwx1kev6CMqL+quB5gk1cBQK3Plg6k2d51nj9h9af9XrSzq9IvvDtK8rSCZVBvjwRlpzTGq/yE1Yagnr+VWar9zt+F2bEd7G4bQouRws6OkvHPtaHx5m/+CV58z4WgFiRKQbMe69rsx09DnbzNRMZI712D7+iKMDUvyTfFlE6Zmn1/T4DGFQPy3n1ioVZbz3iXjwBJlUhI4JEDXkpD9BvqlfP/rxvpy2zXSMlmFjczndkcTXNkLPh9sRYMw9qs1NSCTl8mHrU8Radjs0L999LIL57a/11r55GqiroLp41jj3dqc6lNhruJKsxm1SD31wUoIh0ehXa+tYUZmAfYzH6Rimm+aISxl/UhPAB/Dm+Ekndv08QA3C00FCAPfL6j5qCD801J0Q9F8QfwTRrAYTXu9CTY2EZzZE9Y0I/rOGH0r3XY4uqJouBT/Irfy22j/eLnvGlzRH3Yi0MnKEegpsEn6mNG4p6dGuavmTcm78eqmqC5xDZa7d8Ls4ewk9aeIcJPdtTt9y3Lav31aNYmXtp+YO3xyOtRWMuuwM8Jh5g40kSz9pEnNP1bg905HpFOlgFYTtzpCJmeXKMN6gGHZ2yazwioWFdquisyKK2xkFAEwgs9r5GmxQuMBlZCgGjnAuVNvJxRQvh5+HXfkr9sewR3IRHYZe9hS8EtvvP1XSAAsEIR61XTamJiuLLylHzebvN/TRg968aoSTr8sf0lOYgma975BTkQ6AGH0xDZ06yYMbql7iVt3dBceRjg/9OsJn8YUOzalkiFdo/JrHPRPesjsH3P3n5HIAEfqdwPxc1JtoU9sPpMxEWqtQ9SXqAorpDak1z5+oBG/ObBpC3cPVkkEp69D29S7FKH29bi1lTsoShM8h2aMdG8qROwsknOEfFV7pUR8mmskPx9QyiricTjTOCWWy6Q2L+Dcvl3oKFPfa2XWXK64gB5sN5px4MYyGz+Zwduw0ueRMAt5nrX4zyiq2SsFutMDsiNJxB8Q1L50uHom3n6zf8HbJw1jkZv9gOCfIMzQGWdj/NQ/vlEqksz/FfPzl7SmfRb8YVeEcfOzawZhLNuyU0A//LIEA+d7oB4npJxT0s9bAcC; MyNcbiSigninPreferences=O2dvb2dsZSY%3D; WebCubbyUser=5EBC7M62EXNSPJUDF1F14FXZSLVV71WN%3Blogged-in%3Dtrue%3Bmy-name%3Dgregor.sturm%2540roche.com%3Bpersistent%3Dfalse%408A1A4C4F7DB95821_0145SID; sg_logging_in=; _ga=GA1.2.515518416.1474008453; unloadnext=; ncbi_prevPHID=396F74E07F64ADE1000000000048002D; prevselfurl=https%3A//www.ncbi.nlm.nih.gov/gds/advanced; clicknext=link_id%3Dindex_down%26link_href%3Dhttps%253A%252F%252Fwww.ncbi.nlm.nih.gov%252Fgds%252Fadvanced%2523%26link_text%3DNext%2520200%26browserwidth%3D999%26browserheight%3D1014%26evt_coor_x%3D726%26evt_coor_y%3D334%26jseventms%3D6m8fmb%26iscontextmenu%3Dfalse%26eventid%3D8%26jsevent%3Dclicknext%26ancestorId%3DTermListTable%2CIndexSearch%2Cmaincontent%26ancestorClassName%3Dphn%2CtermList%2Csb_line%2Cadvsec%2Cindex_portlet%2Cadv_search_content%2Ccontent%26maxScroll_x%3D0%26maxScroll_y%3D0%26currScroll_x%3D0%26currScroll_y%3D0%26hasScrolled%3Dfalse%26ncbi_timeonpage%3D415738%26ncbi_onloadTime%3D673%26ncbi_phid%3D396F74E07F64ADE1000000000048002D%26sgSource%3Dnative; ncbi_sid=8A1A4C4F7DB95821_0145SID; WebEnv=1v9OrPc0cF7yj0CCMrjRKTR1aS8j3OmbmTo7a8H0LV50fmS67HX9KDOrwKmMeBoBdKFuE1IfUCUXq-O_G4UzBRvaVFzoXcc1k_hAn%408A1A4C4F7DB95821_0145SID\""
   ]
  },
  {
   "cell_type": "code",
   "execution_count": 55,
   "metadata": {
    "collapsed": false
   },
   "outputs": [],
   "source": [
    "cookies = {}\n",
    "for cook in cookies_raw.split(\";\"):\n",
    "    key, val = cook.split(\"=\")\n",
    "    cookies[key.strip()] = val.strip()"
   ]
  },
  {
   "cell_type": "code",
   "execution_count": 56,
   "metadata": {
    "collapsed": true
   },
   "outputs": [],
   "source": [
    "user_agent = {'User-agent': 'Mozilla/5.0'}"
   ]
  },
  {
   "cell_type": "code",
   "execution_count": 57,
   "metadata": {
    "collapsed": true
   },
   "outputs": [],
   "source": [
    "url = \"https://www.ncbi.nlm.nih.gov/gds/advanced?p%24site=gds&p%24rq=EntrezSystem2.PEntrez.Gds.Entrez_Database.Entrez_AdvancedSearch.Index%3AXmlHttpHandler&Db=gds&Term=&Field=Attribute%20Name&Position={}&Cmd=Down&IndexPath=EntrezSystem2.PEntrez.Gds.Entrez_AdvancedSearch.Index&DevDbModeFlag=false\""
   ]
  },
  {
   "cell_type": "code",
   "execution_count": 58,
   "metadata": {
    "collapsed": false
   },
   "outputs": [],
   "source": [
    "r = requests.get(url.format(201), headers=user_agent, cookies=cookies)"
   ]
  },
  {
   "cell_type": "code",
   "execution_count": 65,
   "metadata": {
    "collapsed": false
   },
   "outputs": [],
   "source": [
    "response_dict = r.json()"
   ]
  },
  {
   "cell_type": "code",
   "execution_count": 69,
   "metadata": {
    "collapsed": false
   },
   "outputs": [
    {
     "data": {
      "text/plain": [
       "'<select id=\"terms_list\" size=\"10\" multiple=\"multiple\"><option value=\"acute lymphoblastic leukemia lineage\">acute lymphoblastic leukemia lineage (19)</option><option value=\"acute mat titer\">acute mat titer (390)</option><option value=\"acute or recovery\">acute or recovery (44)</option><option value=\"a'"
      ]
     },
     "execution_count": 69,
     "metadata": {},
     "output_type": "execute_result"
    }
   ],
   "source": [
    "response_dict[\"TermsList\"][:300]"
   ]
  },
  {
   "cell_type": "code",
   "execution_count": 94,
   "metadata": {
    "collapsed": false
   },
   "outputs": [],
   "source": [
    "res = re.findall(r'<option(.*?)>(.*?)\\((\\d+)\\)</option>', response_dict[\"TermsList\"])"
   ]
  },
  {
   "cell_type": "code",
   "execution_count": 96,
   "metadata": {
    "collapsed": false
   },
   "outputs": [],
   "source": [
    "attrs = []\n",
    "for _, attr, count in res: \n",
    "    attrs.append((attr.strip(), int(count)))"
   ]
  },
  {
   "cell_type": "code",
   "execution_count": 99,
   "metadata": {
    "collapsed": false,
    "scrolled": false
   },
   "outputs": [
    {
     "data": {
      "text/plain": [
       "[('age', 360547),\n",
       " ('administration route', 5345),\n",
       " ('adjuvant chemotherapy', 1343),\n",
       " ('ad disease status', 1229),\n",
       " ('administration', 1226),\n",
       " ('age at cancer diagnosis yrs', 1175),\n",
       " ('age 1', 862),\n",
       " ('affection status', 802),\n",
       " ('affy batch', 799),\n",
       " ('afb smear grade', 626),\n",
       " ('adiponectin', 569),\n",
       " ('adjuvant therapy', 517),\n",
       " ('acute mat titer', 390),\n",
       " ('afp', 357),\n",
       " ('age at baseline', 317),\n",
       " ('age at blood drawing months', 286),\n",
       " ('adjuvant chemo', 282),\n",
       " ('adjuvant patient treatment', 278),\n",
       " ('age 1 b', 267),\n",
       " ('age acceleration with respect to noncerebellar samples', 262),\n",
       " ('age at cancer diagnosis', 244),\n",
       " ('adipocyte cells', 214),\n",
       " ('affx b actinmur 3/5', 202),\n",
       " (\"affx b actinmur 3'/5'\", 202),\n",
       " ('affx gapdhmur 3/5', 202),\n",
       " (\"affx gapdhmur 3'/5'\", 202),\n",
       " ('age at blooddraw', 201),\n",
       " ('adjuvant treatment', 197),\n",
       " ('adult treatment', 193),\n",
       " ('additional information', 191),\n",
       " ('affymetrix id', 183),\n",
       " ('adult age', 177),\n",
       " ('adjuvant hormonotherapy', 169),\n",
       " ('age at blood sample collection', 159),\n",
       " ('admission date', 144),\n",
       " ('adjuvant treated 0 no, 1 yes', 140),\n",
       " ('age at biopsy', 139),\n",
       " ('additional clinical information', 131),\n",
       " ('age/65', 131),\n",
       " ('afb1 exposure', 125),\n",
       " ('affected status f4ab/ac 1 na/2 a', 121),\n",
       " (\"adenosquamous content 0 'no',1 'yes'\", 118),\n",
       " ('adenosquamous content 0 no, 1 yes', 118),\n",
       " ('age 90 greater than or equal to 90', 118),\n",
       " ('age at 1st diagnosis', 118),\n",
       " ('age acceleration vs controls', 114),\n",
       " ('age acceleration vs controls in children', 114),\n",
       " ('age approx', 109),\n",
       " ('affiliated with series gse41994 mrna sample id', 107),\n",
       " ('adjuwant chemotherapy', 102),\n",
       " ('additional data', 97),\n",
       " ('adult bmi', 97),\n",
       " ('adult waist', 97),\n",
       " ('adjuvant chemotherapy 0 no, 1 yes', 88),\n",
       " ('adjuvant hormonal therapy with ia 0 no, 1 yes', 88),\n",
       " ('adjuvant hormonal therapy with tamox 0 no, 1 yes', 88),\n",
       " ('adjuvant rtg therapy 0 no, 1 yes', 88),\n",
       " ('age at breast cancer dx', 85),\n",
       " ('ados total score at biopsy', 84),\n",
       " ('age at blood draw', 84),\n",
       " ('adapter', 83),\n",
       " ('adult diet', 83),\n",
       " ('age at aml diagnosis', 75),\n",
       " ('age/gender', 71),\n",
       " ('age 1/50y, 0 50y', 69),\n",
       " ('adrenocortical carcinoma cluster in our analysis', 66),\n",
       " ('aecc ali', 63),\n",
       " ('age 1 greater than or equal to 50y, 0 less than 50y', 63),\n",
       " ('advanced disease stage', 61),\n",
       " ('agasga', 61),\n",
       " ('affected status', 59),\n",
       " ('advanced disease state', 58),\n",
       " ('affected chromosomes', 58),\n",
       " ('additional cytogenetic abnormalities after dasatinib treatment', 57),\n",
       " ('adj chemo', 56),\n",
       " ('adj neoadj chemotherapy received', 56),\n",
       " ('additional info', 55),\n",
       " ('age/developmental stage', 55),\n",
       " ('additional neurological diagnosis', 51),\n",
       " ('afp 400', 50),\n",
       " ('afp ng/ml', 49),\n",
       " ('additional diagnosis', 47),\n",
       " ('acute or recovery', 44),\n",
       " ('age/disease timepoint', 43),\n",
       " ('affected lymph node', 42),\n",
       " ('affected status disease state', 42),\n",
       " ('affinity purification', 42),\n",
       " ('admin note', 41),\n",
       " ('affy chip', 41),\n",
       " ('age at biopsy date', 40),\n",
       " ('af duration', 39),\n",
       " ('adir a', 38),\n",
       " ('adir b', 38),\n",
       " ('adir c', 38),\n",
       " ('adir d', 38),\n",
       " ('administered form', 38),\n",
       " ('adenoma', 37),\n",
       " ('affinity purification method', 37),\n",
       " ('age at 2nd diagnosis', 37),\n",
       " ('age/sex', 36),\n",
       " ('additional id', 35),\n",
       " ('af or sr', 35),\n",
       " ('aerobic fitness', 31),\n",
       " ('age at biopsy years', 31),\n",
       " ('administration into mice', 30),\n",
       " ('adapter sequence 3', 27),\n",
       " (\"adapter sequence 3'\", 27),\n",
       " ('affected site', 27),\n",
       " ('acute treatment', 25),\n",
       " ('add info', 25),\n",
       " ('ad type', 23),\n",
       " ('adoptive cell therapies act', 22),\n",
       " ('afp at baseline ng/ml 400 1,400 2', 21),\n",
       " ('aeration condition', 20),\n",
       " ('after administration', 20),\n",
       " ('acute lymphoblastic leukemia lineage', 19),\n",
       " ('adaptaquin concentration', 19),\n",
       " ('addition of methylated compounds', 19),\n",
       " ('additional stringent wash cycles after first staining first series', 19),\n",
       " ('additional stringent wash cycles after second staining second series', 19),\n",
       " ('adventitious roots length', 19),\n",
       " ('affected', 19),\n",
       " ('affinity tag in derived hela cells', 19),\n",
       " ('age after birth', 19),\n",
       " ('adaptor', 18),\n",
       " ('adjuvant rx', 18),\n",
       " ('adiological signs', 17),\n",
       " ('affinity', 17),\n",
       " ('age/size', 17),\n",
       " ('adenoviral infection', 16),\n",
       " ('adjradtx', 16),\n",
       " ('aeff', 16),\n",
       " ('adar1 genotype', 15),\n",
       " ('additive', 15),\n",
       " ('adjuvant regimen', 15),\n",
       " ('affected gene', 15),\n",
       " ('adenovirus', 14),\n",
       " ('adenovirus infection', 14),\n",
       " ('affinity selection', 14),\n",
       " ('adaptation status', 13),\n",
       " ('additional treatment', 13),\n",
       " ('adenoviral vector', 13),\n",
       " ('adipose depot', 13),\n",
       " ('aerosol', 13),\n",
       " ('adenocarcinoma permissiveness', 12),\n",
       " ('adenocarcinoma type', 12),\n",
       " ('adipose type', 12),\n",
       " ('affinity tag', 12),\n",
       " ('adapters', 11),\n",
       " ('additional processing', 11),\n",
       " ('affected, tissue', 11),\n",
       " ('age at blood withdrawal', 11),\n",
       " ('additative', 10),\n",
       " ('additional information about cells', 10),\n",
       " ('afi cm closest to delivery', 10),\n",
       " ('adapter sequences', 9),\n",
       " ('adaptor sequence', 9),\n",
       " ('adenovirus overexpression construct', 9),\n",
       " ('adjhormtx', 9),\n",
       " ('administrated reagent', 9),\n",
       " ('aerosol exposure', 9),\n",
       " ('ade16 ade17 knock out mat alpha ade16', 8),\n",
       " ('adenoma type', 8),\n",
       " ('adhesion to plastic', 7),\n",
       " ('acyclovir dose', 6),\n",
       " ('added nutrient', 6),\n",
       " ('age/weight', 6),\n",
       " ('added gene repressing substance', 5),\n",
       " ('ade16 ade17 ade8 his1 knock out mat alpha ade16', 5),\n",
       " ('aerobic', 5),\n",
       " ('affection', 5),\n",
       " ('affinity purification reagent', 5),\n",
       " ('affinity purification using', 5),\n",
       " ('ag specificity', 5),\n",
       " ('age and sex', 5),\n",
       " ('adar2 status', 4),\n",
       " ('adapted for', 3),\n",
       " ('adjchemotx', 3),\n",
       " ('advanced villous maturity', 3),\n",
       " ('affected 1 yes', 3),\n",
       " ('age 1 pfc 1', 3),\n",
       " ('age 1 pfu 1', 3),\n",
       " ('age 1 pfu 2', 3),\n",
       " ('age 1 pvc 1', 3),\n",
       " ('age 1 pvu 1', 3),\n",
       " ('age 2 pfc 2', 3),\n",
       " ('age 2 pvc 2', 3),\n",
       " ('age 3 pfc 3', 3),\n",
       " ('age 3 pvc 3', 3),\n",
       " ('age 4 pfc 4', 3),\n",
       " ('age 4 pvc 4', 3),\n",
       " ('age 5 pfc 5', 3),\n",
       " ('age 5 pvc 5', 3),\n",
       " ('age 6 pfc 6', 3),\n",
       " ('age 6 pvc 6', 3),\n",
       " ('age 7 pfc 7', 3),\n",
       " ('age 7 pvc 7', 3),\n",
       " ('age 8 pfc 8', 3),\n",
       " ('age 9 pfc 9', 3),\n",
       " ('after thawing, the cell lines were cultivated at 33 degrees c because of thermosensitive sv 40 t antigen to obtain a sufficient cell number for the experiment approximately 3 107 cells before confluen',\n",
       "  2)]"
      ]
     },
     "execution_count": 99,
     "metadata": {},
     "output_type": "execute_result"
    }
   ],
   "source": [
    "sorted(attrs, key=lambda x:-x[1])"
   ]
  },
  {
   "cell_type": "code",
   "execution_count": null,
   "metadata": {
    "collapsed": true
   },
   "outputs": [],
   "source": []
  }
 ],
 "metadata": {
  "kernelspec": {
   "display_name": "Python 3",
   "language": "python",
   "name": "python3"
  },
  "language_info": {
   "codemirror_mode": {
    "name": "ipython",
    "version": 3
   },
   "file_extension": ".py",
   "mimetype": "text/x-python",
   "name": "python",
   "nbconvert_exporter": "python",
   "pygments_lexer": "ipython3",
   "version": "3.5.1"
  }
 },
 "nbformat": 4,
 "nbformat_minor": 0
}
