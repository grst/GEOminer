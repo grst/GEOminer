{
 "cells": [
  {
   "cell_type": "markdown",
   "metadata": {},
   "source": [
    "## Here I document how I filtered and selected samples from GEO. \n",
    "Due to lacking annotation, some samples are not useful for our study. Here I describe which samples drop out and why. "
   ]
  },
  {
   "cell_type": "markdown",
   "metadata": {},
   "source": [
    "### Tissue annotation\n",
    "We consider a study having a tissue annotated if the pData contains a column with \"tissue: ...\""
   ]
  },
  {
   "cell_type": "code",
   "execution_count": null,
   "metadata": {
    "collapsed": true
   },
   "outputs": [],
   "source": [
    "!cat *.tsv | grep -oP \"\\\"tissue: (.*?)\\\"\" > ../tissues.txt"
   ]
  },
  {
   "cell_type": "code",
   "execution_count": null,
   "metadata": {
    "collapsed": true
   },
   "outputs": [],
   "source": [
    "!cat tissues.txt | lower | sort | uniq -c > tissues.uniq.txt"
   ]
  },
  {
   "cell_type": "markdown",
   "metadata": {},
   "source": [
    "Manually map the tissues to one of our tissue types"
   ]
  },
  {
   "cell_type": "code",
   "execution_count": null,
   "metadata": {
    "collapsed": true
   },
   "outputs": [],
   "source": [
    "!sort -rn tissues.uniq.txt | cut -d':' -f2 | sed -e  's/^[[:space:]]*//' | \\\n",
    "tr -d '\"' > /homebasel/biocomp/sturmg/projects/GEO_BioQC/BioQC_GEO_analysis/data/map_tissue_annotation.tsv"
   ]
  },
  {
   "cell_type": "markdown",
   "metadata": {},
   "source": [
    "### Gene Symbols\n",
    "For Microarrays, we can use the ribios `annotatedProbesets` if an ID is given in fData. \n",
    "This is the case for almost all microarray studies: "
   ]
  },
  {
   "cell_type": "code",
   "execution_count": 6,
   "metadata": {
    "collapsed": false
   },
   "outputs": [
    {
     "name": "stdout",
     "output_type": "stream",
     "text": [
      "1440\r\n"
     ]
    }
   ],
   "source": [
    "!grep -v \"ID\" /data64/bi/data/GEO_all/tmp/fdata_microarray.txt | wc -l "
   ]
  },
  {
   "cell_type": "markdown",
   "metadata": {},
   "source": [
    "These are actually studies that don't contain any relevant information for us anyway: \n",
    "\n",
    "(The fData is empty)"
   ]
  },
  {
   "cell_type": "code",
   "execution_count": 7,
   "metadata": {
    "collapsed": false
   },
   "outputs": [
    {
     "name": "stdout",
     "output_type": "stream",
     "text": [
      "GSE82178_1\r\n",
      "GSE76488_2\r\n",
      "GSE74034_2\r\n",
      "GSE84799_1\r\n",
      "GSE65289_2\r\n",
      "GSE65289_3\r\n",
      "GSE65289_4\r\n",
      "GSE84968_1\r\n",
      "GSE84968_3\r\n",
      "GSE87671_1\r\n",
      "grep: write error\r\n"
     ]
    }
   ],
   "source": [
    "!grep -v \"ID\" /data64/bi/data/GEO_all/tmp/fdata_microarray.txt | head "
   ]
  },
  {
   "cell_type": "code",
   "execution_count": null,
   "metadata": {
    "collapsed": true
   },
   "outputs": [],
   "source": []
  }
 ],
 "metadata": {
  "kernelspec": {
   "display_name": "Python 3",
   "language": "python",
   "name": "python3"
  },
  "language_info": {
   "codemirror_mode": {
    "name": "ipython",
    "version": 3
   },
   "file_extension": ".py",
   "mimetype": "text/x-python",
   "name": "python",
   "nbconvert_exporter": "python",
   "pygments_lexer": "ipython3",
   "version": "3.5.1"
  }
 },
 "nbformat": 4,
 "nbformat_minor": 0
}
