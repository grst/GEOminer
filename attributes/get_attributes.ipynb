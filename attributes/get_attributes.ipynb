{
 "cells": [
  {
   "cell_type": "code",
   "execution_count": 155,
   "metadata": {
    "collapsed": true
   },
   "outputs": [],
   "source": [
    "import requests\n",
    "import IPython.display as ipd\n",
    "import re\n",
    "import pandas as pd"
   ]
  },
  {
   "cell_type": "code",
   "execution_count": 52,
   "metadata": {
    "collapsed": true
   },
   "outputs": [],
   "source": [
    "cookies_raw = \"prevsearch=; pmc.article.report=; books.article.report=; SMSESSION=4Tq0FL9K88yAdmRCiD71KT+6xigx1WjrdxymkfQewUy2otILHJColJiJV/RAOcHcc7JPI+UjzyvJoqU94+HoEfEh7g4gxaoTfTdYd22aGGgcuA18DJ+2x3owQ5hCIDlOtwKR+NM9GfGzX/fFhv46urilNSeQc2MnBwQuKKB8j7q3WYgtAwT/+TOPDSTZL4s0aiTERGw65kdLnHvVKCAqeMC3/V8u4XrCHSeupnCmGEqD+fCkPERksFxxkt51xd48YRCF5HNch4fxebBl1QQsOdE2DIf4N2nPNZzakFnlvVf2TKCopticXi7sypTnK+H9xuULyRC428Fuc8k4U2dvYrn1mK37CUG/0lqgOHIvZqlL0bNo/nGMPKEqekLZyF94eHa48JFwn9bG8KdAxyctECXrWWadJNoOCOycAFeJciKixY7aSQQi9kaHt+t9sNJlrjMrSNpO4IfT9jA+FHBft5KDgwevdwxauPw3Fqwcf/OvRSb1i3rkSBXQlE3qAdcOa3KGBQSRvOZKZTZnC+FS3a02G4fTwomG79crf/oOgaQ10X3+/Jz2PMkAwDzJIy3JGoHpafjS/3zGF9O6hHoBWXuDZpxrW6zPTOkavPHB5qh+is7VkcCwGDAtYIcOnmLmGsS3JyO8yV/dYTKb7EO+9NWVRGKc4vwuoJes2sJ9F5SiNx/MEH/tdV1CqXZ3hMJnSc2sl9REIURNtJMJUy90PK/6z5AmyMGdwwzzakcU2Ja81aUgDczOxKwCN54mP1cBLHIaKHj3MzDCH8sbjYXwOpf1m+S5GcJSkTVa0sHU1dYjySR3TR/RnU/yZWn3APY4dtPWYriP6wZL2sE0HWrY2VlEuql4I/CjfYLeAktEBjRwxPhw82hvmcMnX4ojXPmzd5gnRPlMV7hjzVaKzeX8KE/l+qjCjYbYlFBZTKauQJCOmF6E9EWvb+EbQHwiCGETUpfHFun0tIZDgj/JcWeijAbR835hnTb4ODDjHw4hr0n4RLLevjNCxHQdETXF8MJDlC6LTv/pH6YIGqUa0e+6Xw159F2E4sK1/fhlV/jqyaF284XqJElKaBWjXRniengMipm62va5Kj4eE2Y8lv3wRWHQerQ3fzemJvxQK1Q4Udg/7XwxigEINKKlwZuRJU+KEtso+ZpDHxNQFQFQ4lL0g4DAXkBf1JZ2ef7ljtiYsbtJNBti3xbSNp4/nCpbax03+75Nbvm9IOyJZdGyY9uyYXBgp61/RRQu; NIHSMCHALLENGE=SSL_CHALLENGE_DONE; NIHSMSESSION=0oqp5kiFp14hgvo9qJu9krd3cDxSMlcN2ORwBLfRa0eGgSWfTh9TIQG4f/QvRG80jI8aRAi3EWHc4flKXO8OaLgyeCbFCwqFmP37lPuomWjVbISaFIfFTiDu9ZqMB01XQJ5Y5dpL31dqC88myukwx1kev6CMqL+quB5gk1cBQK3Plg6k2d51nj9h9af9XrSzq9IvvDtK8rSCZVBvjwRlpzTGq/yE1Yagnr+VWar9zt+F2bEd7G4bQouRws6OkvHPtaHx5m/+CV58z4WgFiRKQbMe69rsx09DnbzNRMZI712D7+iKMDUvyTfFlE6Zmn1/T4DGFQPy3n1ioVZbz3iXjwBJlUhI4JEDXkpD9BvqlfP/rxvpy2zXSMlmFjczndkcTXNkLPh9sRYMw9qs1NSCTl8mHrU8Radjs0L999LIL57a/11r55GqiroLp41jj3dqc6lNhruJKsxm1SD31wUoIh0ehXa+tYUZmAfYzH6Rimm+aISxl/UhPAB/Dm+Ekndv08QA3C00FCAPfL6j5qCD801J0Q9F8QfwTRrAYTXu9CTY2EZzZE9Y0I/rOGH0r3XY4uqJouBT/Irfy22j/eLnvGlzRH3Yi0MnKEegpsEn6mNG4p6dGuavmTcm78eqmqC5xDZa7d8Ls4ewk9aeIcJPdtTt9y3Lav31aNYmXtp+YO3xyOtRWMuuwM8Jh5g40kSz9pEnNP1bg905HpFOlgFYTtzpCJmeXKMN6gGHZ2yazwioWFdquisyKK2xkFAEwgs9r5GmxQuMBlZCgGjnAuVNvJxRQvh5+HXfkr9sewR3IRHYZe9hS8EtvvP1XSAAsEIR61XTamJiuLLylHzebvN/TRg968aoSTr8sf0lOYgma975BTkQ6AGH0xDZ06yYMbql7iVt3dBceRjg/9OsJn8YUOzalkiFdo/JrHPRPesjsH3P3n5HIAEfqdwPxc1JtoU9sPpMxEWqtQ9SXqAorpDak1z5+oBG/ObBpC3cPVkkEp69D29S7FKH29bi1lTsoShM8h2aMdG8qROwsknOEfFV7pUR8mmskPx9QyiricTjTOCWWy6Q2L+Dcvl3oKFPfa2XWXK64gB5sN5px4MYyGz+Zwduw0ueRMAt5nrX4zyiq2SsFutMDsiNJxB8Q1L50uHom3n6zf8HbJw1jkZv9gOCfIMzQGWdj/NQ/vlEqksz/FfPzl7SmfRb8YVeEcfOzawZhLNuyU0A//LIEA+d7oB4npJxT0s9bAcC; MyNcbiSigninPreferences=O2dvb2dsZSY%3D; WebCubbyUser=5EBC7M62EXNSPJUDF1F14FXZSLVV71WN%3Blogged-in%3Dtrue%3Bmy-name%3Dgregor.sturm%2540roche.com%3Bpersistent%3Dfalse%408A1A4C4F7DB95821_0145SID; sg_logging_in=; _ga=GA1.2.515518416.1474008453; unloadnext=; ncbi_prevPHID=396F74E07F64ADE1000000000048002D; prevselfurl=https%3A//www.ncbi.nlm.nih.gov/gds/advanced; clicknext=link_id%3Dindex_down%26link_href%3Dhttps%253A%252F%252Fwww.ncbi.nlm.nih.gov%252Fgds%252Fadvanced%2523%26link_text%3DNext%2520200%26browserwidth%3D999%26browserheight%3D1014%26evt_coor_x%3D726%26evt_coor_y%3D334%26jseventms%3D6m8fmb%26iscontextmenu%3Dfalse%26eventid%3D8%26jsevent%3Dclicknext%26ancestorId%3DTermListTable%2CIndexSearch%2Cmaincontent%26ancestorClassName%3Dphn%2CtermList%2Csb_line%2Cadvsec%2Cindex_portlet%2Cadv_search_content%2Ccontent%26maxScroll_x%3D0%26maxScroll_y%3D0%26currScroll_x%3D0%26currScroll_y%3D0%26hasScrolled%3Dfalse%26ncbi_timeonpage%3D415738%26ncbi_onloadTime%3D673%26ncbi_phid%3D396F74E07F64ADE1000000000048002D%26sgSource%3Dnative; ncbi_sid=8A1A4C4F7DB95821_0145SID; WebEnv=1v9OrPc0cF7yj0CCMrjRKTR1aS8j3OmbmTo7a8H0LV50fmS67HX9KDOrwKmMeBoBdKFuE1IfUCUXq-O_G4UzBRvaVFzoXcc1k_hAn%408A1A4C4F7DB95821_0145SID\""
   ]
  },
  {
   "cell_type": "code",
   "execution_count": 55,
   "metadata": {
    "collapsed": false
   },
   "outputs": [],
   "source": [
    "cookies = {}\n",
    "for cook in cookies_raw.split(\";\"):\n",
    "    key, val = cook.split(\"=\")\n",
    "    cookies[key.strip()] = val.strip()"
   ]
  },
  {
   "cell_type": "code",
   "execution_count": 139,
   "metadata": {
    "collapsed": true
   },
   "outputs": [],
   "source": [
    "user_agent = {'User-agent': 'Mozilla/5.0'}"
   ]
  },
  {
   "cell_type": "code",
   "execution_count": 140,
   "metadata": {
    "collapsed": true
   },
   "outputs": [],
   "source": [
    "url = \"https://www.ncbi.nlm.nih.gov/gds/advanced?p%24site=gds&p%24rq=EntrezSystem2.PEntrez.Gds.Entrez_Database.Entrez_AdvancedSearch.Index%3AXmlHttpHandler&Db=gds&Term=&Field=Attribute%20Name&Position={}&Cmd=Down&IndexPath=EntrezSystem2.PEntrez.Gds.Entrez_AdvancedSearch.Index&DevDbModeFlag=false\""
   ]
  },
  {
   "cell_type": "code",
   "execution_count": 151,
   "metadata": {
    "collapsed": true
   },
   "outputs": [],
   "source": [
    "response_dict = {\"TermsList\": \"x\" * 201}"
   ]
  },
  {
   "cell_type": "code",
   "execution_count": 153,
   "metadata": {
    "collapsed": false
   },
   "outputs": [],
   "source": [
    "i = 1\n",
    "attrs = []\n",
    "while len(response_dict[\"TermsList\"]) > 200:\n",
    "    r = requests.get(url.format(i), headers=user_agent, cookies=cookies)\n",
    "    response_dict = r.json()\n",
    "    res = re.findall(r'<option(.*?)>(.*?)\\((\\d+)\\)</option>', response_dict[\"TermsList\"])\n",
    "    for _, attr, count in res: \n",
    "        attrs.append((attr.strip(), int(count)))\n",
    "    i += 200"
   ]
  },
  {
   "cell_type": "code",
   "execution_count": 157,
   "metadata": {
    "collapsed": false,
    "scrolled": false
   },
   "outputs": [],
   "source": [
    "df = pd.DataFrame(attrs)"
   ]
  },
  {
   "cell_type": "code",
   "execution_count": 159,
   "metadata": {
    "collapsed": false
   },
   "outputs": [],
   "source": [
    "df.columns= ['attr', 'count']"
   ]
  },
  {
   "cell_type": "code",
   "execution_count": 160,
   "metadata": {
    "collapsed": false
   },
   "outputs": [
    {
     "data": {
      "text/html": [
       "<div>\n",
       "<table border=\"1\" class=\"dataframe\">\n",
       "  <thead>\n",
       "    <tr style=\"text-align: right;\">\n",
       "      <th></th>\n",
       "      <th>attr</th>\n",
       "      <th>count</th>\n",
       "    </tr>\n",
       "  </thead>\n",
       "  <tbody>\n",
       "    <tr>\n",
       "      <th>0</th>\n",
       "      <td>5 end dependence</td>\n",
       "      <td>25</td>\n",
       "    </tr>\n",
       "    <tr>\n",
       "      <th>1</th>\n",
       "      <td>5 year efs</td>\n",
       "      <td>31</td>\n",
       "    </tr>\n",
       "    <tr>\n",
       "      <th>2</th>\n",
       "      <td>5 year os</td>\n",
       "      <td>31</td>\n",
       "    </tr>\n",
       "    <tr>\n",
       "      <th>3</th>\n",
       "      <td>5' adapter barcode</td>\n",
       "      <td>12</td>\n",
       "    </tr>\n",
       "    <tr>\n",
       "      <th>4</th>\n",
       "      <td>5' adapter with index base followed by an aste...</td>\n",
       "      <td>29</td>\n",
       "    </tr>\n",
       "  </tbody>\n",
       "</table>\n",
       "</div>"
      ],
      "text/plain": [
       "                                                attr  count\n",
       "0                                   5 end dependence     25\n",
       "1                                         5 year efs     31\n",
       "2                                          5 year os     31\n",
       "3                                 5' adapter barcode     12\n",
       "4  5' adapter with index base followed by an aste...     29"
      ]
     },
     "execution_count": 160,
     "metadata": {},
     "output_type": "execute_result"
    }
   ],
   "source": [
    "df.head()"
   ]
  },
  {
   "cell_type": "code",
   "execution_count": 161,
   "metadata": {
    "collapsed": true
   },
   "outputs": [],
   "source": [
    "df.to_csv(\"all_attr.tsv\", sep='\\t')"
   ]
  },
  {
   "cell_type": "code",
   "execution_count": null,
   "metadata": {
    "collapsed": true
   },
   "outputs": [],
   "source": []
  }
 ],
 "metadata": {
  "kernelspec": {
   "display_name": "Python 3",
   "language": "python",
   "name": "python3"
  },
  "language_info": {
   "codemirror_mode": {
    "name": "ipython",
    "version": 3
   },
   "file_extension": ".py",
   "mimetype": "text/x-python",
   "name": "python",
   "nbconvert_exporter": "python",
   "pygments_lexer": "ipython3",
   "version": "3.5.1"
  }
 },
 "nbformat": 4,
 "nbformat_minor": 0
}
